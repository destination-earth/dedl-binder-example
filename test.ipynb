{
 "cells": [
  {
   "cell_type": "markdown",
   "id": "4abbbb7d",
   "metadata": {},
   "source": [
    "# Verify binder\n",
    "This is a test notebook to verifiying the capabilities of binder\n",
    "\n",
    "We import pystac_client and rich, which are listed in the environment file to verfiy the configuration."
   ]
  },
  {
   "cell_type": "code",
   "execution_count": null,
   "id": "66093774",
   "metadata": {},
   "outputs": [],
   "source": [
    "from pystac_client import Client\n",
    "from rich.console import Console\n",
    "import rich.table\n",
    "\n",
    "HDA_API_URL = \"https://hda.data.destination-earth.eu/stac\"\n",
    "cat = Client.open(HDA_API_URL)\n",
    "\n",
    "console = Console()\n",
    "\n",
    "hda_collections = cat.get_collections()\n",
    "\n",
    "table = rich.table.Table(title=\"HDA collections\", expand=True)\n",
    "table.add_column(\"ID\", style=\"cyan\", justify=\"right\",no_wrap=True)\n",
    "table.add_column(\"Title\", style=\"violet\", no_wrap=True)\n",
    "\n",
    "for collection in hda_collections:\n",
    "    table.add_row(collection.id, collection.title)\n",
    "console.print(table)"
   ]
  }
 ],
 "metadata": {
  "language_info": {
   "name": "python"
  }
 },
 "nbformat": 4,
 "nbformat_minor": 5
}
